{
 "cells": [
  {
   "cell_type": "markdown",
   "metadata": {},
   "source": [
    "<p style=\"text-align:center\">\n",
    "    <a href=\"https://skills.network/?utm_medium=Exinfluencer&utm_source=Exinfluencer&utm_content=000026UJ&utm_term=10006555&utm_id=NA-SkillsNetwork-Channel-SkillsNetworkCoursesIBMDS0321ENSkillsNetwork26802033-2022-01-01\" target=\"_blank\">\n",
    "    <img src=\"https://cf-courses-data.s3.us.cloud-object-storage.appdomain.cloud/assets/logos/SN_web_lightmode.png\" width=\"200\" alt=\"Skills Network Logo\"  />\n",
    "    </a>\n",
    "</p>\n",
    "\n",
    "<h1 align=center><font size = 5>Assignment: SQL Notebook for Peer Assignment</font></h1>\n",
    "\n",
    "Estimated time needed: **60** minutes.\n",
    "\n",
    "## Introduction\n",
    "\n",
    "Using this Python notebook you will:\n",
    "\n",
    "1.  Understand the Spacex DataSet\n",
    "2.  Load the dataset  into the corresponding table in a Db2 database\n",
    "3.  Execute SQL queries to answer assignment questions\n"
   ]
  },
  {
   "cell_type": "markdown",
   "metadata": {},
   "source": [
    "## Overview of the DataSet\n",
    "\n",
    "SpaceX has gained worldwide attention for a series of historic milestones.\n",
    "\n",
    "It is the only private company ever to return a spacecraft from low-earth orbit, which it first accomplished in December 2010.\n",
    "SpaceX advertises Falcon 9 rocket launches on its website with a cost of 62 million dollars wheras other providers cost upward of 165 million dollars each, much of the savings is because Space X can reuse the first stage.\n",
    "\n",
    "Therefore if we can determine if the first stage will land, we can determine the cost of a launch.\n",
    "\n",
    "This information can be used if an alternate company wants to bid against SpaceX for a rocket launch.\n",
    "\n",
    "This dataset includes a record for each payload carried during a SpaceX mission into outer space.\n"
   ]
  },
  {
   "cell_type": "markdown",
   "metadata": {},
   "source": [
    "### Download the datasets\n",
    "\n",
    "This assignment requires you to load the spacex dataset.\n",
    "\n",
    "In many cases the dataset to be analyzed is available as a .CSV (comma separated values) file, perhaps on the internet. Click on the link below to download and save the dataset (.CSV file):\n",
    "\n",
    "<a href=\"https://cf-courses-data.s3.us.cloud-object-storage.appdomain.cloud/IBM-DS0321EN-SkillsNetwork/labs/module_2/data/Spacex.csv?utm_medium=Exinfluencer&utm_source=Exinfluencer&utm_content=000026UJ&utm_term=10006555&utm_id=NA-SkillsNetwork-Channel-SkillsNetworkCoursesIBMDS0321ENSkillsNetwork26802033-2022-01-01\" target=\"_blank\">Spacex DataSet</a>\n"
   ]
  },
  {
   "cell_type": "markdown",
   "metadata": {},
   "source": [
    "### Store the dataset in database table\n",
    "\n",
    "**it is highly recommended to manually load the table using the database console LOAD tool in DB2**.\n",
    "\n",
    "<img src = \"https://cf-courses-data.s3.us.cloud-object-storage.appdomain.cloud/IBM-DS0321EN-SkillsNetwork/labs/module_2/images/spacexload.png\">\n",
    "\n",
    "Now open the Db2 console, open the LOAD tool, Select / Drag the .CSV file for the  dataset, Next create a New Table, and then follow the steps on-screen instructions to load the data. Name the new table as follows:\n",
    "\n",
    "**SPACEXDATASET**\n",
    "\n",
    "**Follow these steps while using old DB2 UI which is having Open Console Screen**\n",
    "\n",
    "**Note:While loading Spacex dataset, ensure that detect datatypes is disabled. Later click on the pencil icon(edit option).**\n",
    "\n",
    "1.  Change the Date Format by manually typing DD-MM-YYYY and timestamp format as DD-MM-YYYY HH\\:MM:SS\n",
    "\n",
    "2.  Change the PAYLOAD_MASS\\_\\_KG\\_  datatype  to INTEGER.\n",
    "\n",
    "<img src = \"https://cf-courses-data.s3.us.cloud-object-storage.appdomain.cloud/IBM-DS0321EN-SkillsNetwork/labs/module_2/images/spacexload2.png\">\n"
   ]
  },
  {
   "cell_type": "markdown",
   "metadata": {},
   "source": [
    "**Changes to be considered when having DB2 instance with the new UI having Go to UI screen**\n",
    "\n",
    "*   Refer to this insruction in this <a href=\"https://cf-courses-data.s3.us.cloud-object-storage.appdomain.cloud/IBMDeveloperSkillsNetwork-DB0201EN-SkillsNetwork/labs/Labs_Coursera_V5/labs/Lab%20-%20Sign%20up%20for%20IBM%20Cloud%20-%20Create%20Db2%20service%20instance%20-%20Get%20started%20with%20the%20Db2%20console/instructional-labs.md.html?utm_medium=Exinfluencer&utm_source=Exinfluencer&utm_content=000026UJ&utm_term=10006555&utm_id=NA-SkillsNetwork-Channel-SkillsNetworkCoursesIBMDS0321ENSkillsNetwork26802033-2022-01-01\">link</a> for viewing  the new  Go to UI screen.\n",
    "\n",
    "*   Later click on **Data link(below SQL)**  in the Go to UI screen  and click on **Load Data** tab.\n",
    "\n",
    "*   Later browse for the downloaded spacex file.\n",
    "\n",
    "<img src=\"https://cf-courses-data.s3.us.cloud-object-storage.appdomain.cloud/IBM-DS0321EN-SkillsNetwork/labs/module_2/images/browsefile.png\" width=\"800\"/>\n",
    "\n",
    "*   Once done select the schema andload the file.\n",
    "\n",
    " <img src=\"https://cf-courses-data.s3.us.cloud-object-storage.appdomain.cloud/IBM-DS0321EN-SkillsNetwork/labs/module_2/images/spacexload3.png\" width=\"800\"/>\n"
   ]
  },
  {
   "cell_type": "code",
   "execution_count": null,
   "metadata": {},
   "outputs": [],
   "source": [
    "!pip install sqlalchemy==1.3.9\n"
   ]
  },
  {
   "cell_type": "markdown",
   "metadata": {},
   "source": [
    "### Connect to the database\n",
    "\n",
    "Let us first load the SQL extension and establish a connection with the database\n"
   ]
  },
  {
   "cell_type": "code",
   "execution_count": 1,
   "metadata": {},
   "outputs": [],
   "source": [
    "%load_ext sql"
   ]
  },
  {
   "cell_type": "code",
   "execution_count": 2,
   "metadata": {},
   "outputs": [],
   "source": [
    "import csv, sqlite3\n",
    "\n",
    "con = sqlite3.connect(\"my_data1.db\")\n",
    "cur = con.cursor()"
   ]
  },
  {
   "cell_type": "code",
   "execution_count": 3,
   "metadata": {},
   "outputs": [],
   "source": [
    "!pip install -q pandas==1.1.5"
   ]
  },
  {
   "cell_type": "code",
   "execution_count": 4,
   "metadata": {},
   "outputs": [
    {
     "data": {
      "text/plain": [
       "'Connected: @my_data1.db'"
      ]
     },
     "execution_count": 4,
     "metadata": {},
     "output_type": "execute_result"
    }
   ],
   "source": [
    "%sql sqlite:///my_data1.db"
   ]
  },
  {
   "cell_type": "code",
   "execution_count": 5,
   "metadata": {},
   "outputs": [
    {
     "name": "stderr",
     "output_type": "stream",
     "text": [
      "/home/jupyterlab/conda/envs/python/lib/python3.7/site-packages/pandas/core/generic.py:2882: UserWarning: The spaces in these column names will not be changed. In pandas versions < 0.14, spaces were converted to underscores.\n",
      "  both result in 0.1234 being formatted as 0.12.\n"
     ]
    }
   ],
   "source": [
    "import pandas as pd\n",
    "df = pd.read_csv(\"https://cf-courses-data.s3.us.cloud-object-storage.appdomain.cloud/IBM-DS0321EN-SkillsNetwork/labs/module_2/data/Spacex.csv\")\n",
    "df.to_sql(\"SPACEXTBL\", con, if_exists='replace', index=False, method=\"multi\")"
   ]
  },
  {
   "cell_type": "markdown",
   "metadata": {},
   "source": [
    "## Tasks\n",
    "\n",
    "Now write and execute SQL queries to solve the assignment tasks.\n",
    "\n",
    "**Note: If the column names are in mixed case enclose it in double quotes\n",
    "For Example \"Landing_Outcome\"**\n",
    "\n",
    "### Task 1\n",
    "\n",
    "##### Display the names of the unique launch sites  in the space mission\n"
   ]
  },
  {
   "cell_type": "code",
   "execution_count": 12,
   "metadata": {},
   "outputs": [
    {
     "name": "stdout",
     "output_type": "stream",
     "text": [
      " * sqlite:///my_data1.db\n",
      "Done.\n"
     ]
    },
    {
     "data": {
      "text/html": [
       "<table>\n",
       "    <thead>\n",
       "        <tr>\n",
       "            <th>Launch_Site</th>\n",
       "        </tr>\n",
       "    </thead>\n",
       "    <tbody>\n",
       "        <tr>\n",
       "            <td>CCAFS LC-40</td>\n",
       "        </tr>\n",
       "        <tr>\n",
       "            <td>VAFB SLC-4E</td>\n",
       "        </tr>\n",
       "        <tr>\n",
       "            <td>KSC LC-39A</td>\n",
       "        </tr>\n",
       "        <tr>\n",
       "            <td>CCAFS SLC-40</td>\n",
       "        </tr>\n",
       "    </tbody>\n",
       "</table>"
      ],
      "text/plain": [
       "[('CCAFS LC-40',), ('VAFB SLC-4E',), ('KSC LC-39A',), ('CCAFS SLC-40',)]"
      ]
     },
     "execution_count": 12,
     "metadata": {},
     "output_type": "execute_result"
    }
   ],
   "source": [
    "%%sql\n",
    "select distinct(Launch_Site) from SPACEXTBL"
   ]
  },
  {
   "cell_type": "markdown",
   "metadata": {},
   "source": [
    "### Task 2\n",
    "\n",
    "##### Display 5 records where launch sites begin with the string 'CCA'\n"
   ]
  },
  {
   "cell_type": "code",
   "execution_count": 17,
   "metadata": {},
   "outputs": [
    {
     "name": "stdout",
     "output_type": "stream",
     "text": [
      " * sqlite:///my_data1.db\n",
      "Done.\n"
     ]
    },
    {
     "data": {
      "text/html": [
       "<table>\n",
       "    <thead>\n",
       "        <tr>\n",
       "            <th>Date</th>\n",
       "            <th>Time (UTC)</th>\n",
       "            <th>Booster_Version</th>\n",
       "            <th>Launch_Site</th>\n",
       "            <th>Payload</th>\n",
       "            <th>PAYLOAD_MASS__KG_</th>\n",
       "            <th>Orbit</th>\n",
       "            <th>Customer</th>\n",
       "            <th>Mission_Outcome</th>\n",
       "            <th>Landing _Outcome</th>\n",
       "        </tr>\n",
       "    </thead>\n",
       "    <tbody>\n",
       "        <tr>\n",
       "            <td>04-06-2010</td>\n",
       "            <td>18:45:00</td>\n",
       "            <td>F9 v1.0  B0003</td>\n",
       "            <td>CCAFS LC-40</td>\n",
       "            <td>Dragon Spacecraft Qualification Unit</td>\n",
       "            <td>0</td>\n",
       "            <td>LEO</td>\n",
       "            <td>SpaceX</td>\n",
       "            <td>Success</td>\n",
       "            <td>Failure (parachute)</td>\n",
       "        </tr>\n",
       "        <tr>\n",
       "            <td>08-12-2010</td>\n",
       "            <td>15:43:00</td>\n",
       "            <td>F9 v1.0  B0004</td>\n",
       "            <td>CCAFS LC-40</td>\n",
       "            <td>Dragon demo flight C1, two CubeSats, barrel of Brouere cheese</td>\n",
       "            <td>0</td>\n",
       "            <td>LEO (ISS)</td>\n",
       "            <td>NASA (COTS) NRO</td>\n",
       "            <td>Success</td>\n",
       "            <td>Failure (parachute)</td>\n",
       "        </tr>\n",
       "        <tr>\n",
       "            <td>22-05-2012</td>\n",
       "            <td>07:44:00</td>\n",
       "            <td>F9 v1.0  B0005</td>\n",
       "            <td>CCAFS LC-40</td>\n",
       "            <td>Dragon demo flight C2</td>\n",
       "            <td>525</td>\n",
       "            <td>LEO (ISS)</td>\n",
       "            <td>NASA (COTS)</td>\n",
       "            <td>Success</td>\n",
       "            <td>No attempt</td>\n",
       "        </tr>\n",
       "        <tr>\n",
       "            <td>08-10-2012</td>\n",
       "            <td>00:35:00</td>\n",
       "            <td>F9 v1.0  B0006</td>\n",
       "            <td>CCAFS LC-40</td>\n",
       "            <td>SpaceX CRS-1</td>\n",
       "            <td>500</td>\n",
       "            <td>LEO (ISS)</td>\n",
       "            <td>NASA (CRS)</td>\n",
       "            <td>Success</td>\n",
       "            <td>No attempt</td>\n",
       "        </tr>\n",
       "        <tr>\n",
       "            <td>01-03-2013</td>\n",
       "            <td>15:10:00</td>\n",
       "            <td>F9 v1.0  B0007</td>\n",
       "            <td>CCAFS LC-40</td>\n",
       "            <td>SpaceX CRS-2</td>\n",
       "            <td>677</td>\n",
       "            <td>LEO (ISS)</td>\n",
       "            <td>NASA (CRS)</td>\n",
       "            <td>Success</td>\n",
       "            <td>No attempt</td>\n",
       "        </tr>\n",
       "    </tbody>\n",
       "</table>"
      ],
      "text/plain": [
       "[('04-06-2010', '18:45:00', 'F9 v1.0  B0003', 'CCAFS LC-40', 'Dragon Spacecraft Qualification Unit', 0, 'LEO', 'SpaceX', 'Success', 'Failure (parachute)'),\n",
       " ('08-12-2010', '15:43:00', 'F9 v1.0  B0004', 'CCAFS LC-40', 'Dragon demo flight C1, two CubeSats, barrel of Brouere cheese', 0, 'LEO (ISS)', 'NASA (COTS) NRO', 'Success', 'Failure (parachute)'),\n",
       " ('22-05-2012', '07:44:00', 'F9 v1.0  B0005', 'CCAFS LC-40', 'Dragon demo flight C2', 525, 'LEO (ISS)', 'NASA (COTS)', 'Success', 'No attempt'),\n",
       " ('08-10-2012', '00:35:00', 'F9 v1.0  B0006', 'CCAFS LC-40', 'SpaceX CRS-1', 500, 'LEO (ISS)', 'NASA (CRS)', 'Success', 'No attempt'),\n",
       " ('01-03-2013', '15:10:00', 'F9 v1.0  B0007', 'CCAFS LC-40', 'SpaceX CRS-2', 677, 'LEO (ISS)', 'NASA (CRS)', 'Success', 'No attempt')]"
      ]
     },
     "execution_count": 17,
     "metadata": {},
     "output_type": "execute_result"
    }
   ],
   "source": [
    "%%sql\n",
    "select * from SPACEXTBL where Launch_Site like 'CCA%' limit 5"
   ]
  },
  {
   "cell_type": "markdown",
   "metadata": {},
   "source": [
    "### Task 3\n",
    "\n",
    "##### Display the total payload mass carried by boosters launched by NASA (CRS)\n"
   ]
  },
  {
   "cell_type": "code",
   "execution_count": 18,
   "metadata": {},
   "outputs": [
    {
     "name": "stdout",
     "output_type": "stream",
     "text": [
      " * sqlite:///my_data1.db\n",
      "Done.\n"
     ]
    },
    {
     "data": {
      "text/html": [
       "<table>\n",
       "    <thead>\n",
       "        <tr>\n",
       "            <th>sum(PAYLOAD_MASS__KG_)</th>\n",
       "        </tr>\n",
       "    </thead>\n",
       "    <tbody>\n",
       "        <tr>\n",
       "            <td>45596</td>\n",
       "        </tr>\n",
       "    </tbody>\n",
       "</table>"
      ],
      "text/plain": [
       "[(45596,)]"
      ]
     },
     "execution_count": 18,
     "metadata": {},
     "output_type": "execute_result"
    }
   ],
   "source": [
    "%%sql\n",
    "select sum(PAYLOAD_MASS__KG_) from SPACEXTBL where customer = \"NASA (CRS)\""
   ]
  },
  {
   "cell_type": "markdown",
   "metadata": {},
   "source": [
    "### Task 4\n",
    "\n",
    "##### Display average payload mass carried by booster version F9 v1.1\n"
   ]
  },
  {
   "cell_type": "code",
   "execution_count": 21,
   "metadata": {},
   "outputs": [
    {
     "name": "stdout",
     "output_type": "stream",
     "text": [
      " * sqlite:///my_data1.db\n",
      "Done.\n"
     ]
    },
    {
     "data": {
      "text/html": [
       "<table>\n",
       "    <thead>\n",
       "        <tr>\n",
       "            <th>avg(PAYLOAD_MASS__KG_)</th>\n",
       "        </tr>\n",
       "    </thead>\n",
       "    <tbody>\n",
       "        <tr>\n",
       "            <td>2534.6666666666665</td>\n",
       "        </tr>\n",
       "    </tbody>\n",
       "</table>"
      ],
      "text/plain": [
       "[(2534.6666666666665,)]"
      ]
     },
     "execution_count": 21,
     "metadata": {},
     "output_type": "execute_result"
    }
   ],
   "source": [
    "%%sql\n",
    "select avg(PAYLOAD_MASS__KG_) from SPACEXTBL where Booster_Version like \"F9 v1.1%\""
   ]
  },
  {
   "cell_type": "markdown",
   "metadata": {},
   "source": [
    "### Task 5\n",
    "\n",
    "##### List the date when the first succesful landing outcome in ground pad was acheived.\n",
    "\n",
    "*Hint:Use min function*\n"
   ]
  },
  {
   "cell_type": "code",
   "execution_count": 27,
   "metadata": {},
   "outputs": [
    {
     "name": "stdout",
     "output_type": "stream",
     "text": [
      " * sqlite:///my_data1.db\n",
      "Done.\n"
     ]
    },
    {
     "data": {
      "text/html": [
       "<table>\n",
       "    <thead>\n",
       "        <tr>\n",
       "            <th>min(Date)</th>\n",
       "        </tr>\n",
       "    </thead>\n",
       "    <tbody>\n",
       "        <tr>\n",
       "            <td>01-05-2017</td>\n",
       "        </tr>\n",
       "    </tbody>\n",
       "</table>"
      ],
      "text/plain": [
       "[('01-05-2017',)]"
      ]
     },
     "execution_count": 27,
     "metadata": {},
     "output_type": "execute_result"
    }
   ],
   "source": [
    "%%sql\n",
    "select min(Date) from SPACEXTBL where \"Landing _Outcome\" = \"Success (ground pad)\""
   ]
  },
  {
   "cell_type": "code",
   "execution_count": 28,
   "metadata": {},
   "outputs": [
    {
     "name": "stdout",
     "output_type": "stream",
     "text": [
      " * sqlite:///my_data1.db\n",
      "Done.\n"
     ]
    },
    {
     "data": {
      "text/html": [
       "<table>\n",
       "    <thead>\n",
       "        <tr>\n",
       "            <th>Landing _Outcome</th>\n",
       "        </tr>\n",
       "    </thead>\n",
       "    <tbody>\n",
       "        <tr>\n",
       "            <td>Failure (parachute)</td>\n",
       "        </tr>\n",
       "        <tr>\n",
       "            <td>No attempt</td>\n",
       "        </tr>\n",
       "        <tr>\n",
       "            <td>Uncontrolled (ocean)</td>\n",
       "        </tr>\n",
       "        <tr>\n",
       "            <td>Controlled (ocean)</td>\n",
       "        </tr>\n",
       "        <tr>\n",
       "            <td>Failure (drone ship)</td>\n",
       "        </tr>\n",
       "        <tr>\n",
       "            <td>Precluded (drone ship)</td>\n",
       "        </tr>\n",
       "        <tr>\n",
       "            <td>Success (ground pad)</td>\n",
       "        </tr>\n",
       "        <tr>\n",
       "            <td>Success (drone ship)</td>\n",
       "        </tr>\n",
       "        <tr>\n",
       "            <td>Success</td>\n",
       "        </tr>\n",
       "        <tr>\n",
       "            <td>Failure</td>\n",
       "        </tr>\n",
       "        <tr>\n",
       "            <td>No attempt </td>\n",
       "        </tr>\n",
       "    </tbody>\n",
       "</table>"
      ],
      "text/plain": [
       "[('Failure (parachute)',),\n",
       " ('No attempt',),\n",
       " ('Uncontrolled (ocean)',),\n",
       " ('Controlled (ocean)',),\n",
       " ('Failure (drone ship)',),\n",
       " ('Precluded (drone ship)',),\n",
       " ('Success (ground pad)',),\n",
       " ('Success (drone ship)',),\n",
       " ('Success',),\n",
       " ('Failure',),\n",
       " ('No attempt ',)]"
      ]
     },
     "execution_count": 28,
     "metadata": {},
     "output_type": "execute_result"
    }
   ],
   "source": [
    "%%sql\n",
    "select distinct \"Landing _Outcome\" from SPACEXTBL"
   ]
  },
  {
   "cell_type": "markdown",
   "metadata": {},
   "source": [
    "### Task 6\n",
    "\n",
    "##### List the names of the boosters which have success in drone ship and have payload mass greater than 4000 but less than 6000\n"
   ]
  },
  {
   "cell_type": "code",
   "execution_count": 29,
   "metadata": {},
   "outputs": [
    {
     "name": "stdout",
     "output_type": "stream",
     "text": [
      " * sqlite:///my_data1.db\n",
      "Done.\n"
     ]
    },
    {
     "data": {
      "text/html": [
       "<table>\n",
       "    <thead>\n",
       "        <tr>\n",
       "            <th>Booster_Version</th>\n",
       "        </tr>\n",
       "    </thead>\n",
       "    <tbody>\n",
       "        <tr>\n",
       "            <td>F9 FT B1022</td>\n",
       "        </tr>\n",
       "        <tr>\n",
       "            <td>F9 FT B1026</td>\n",
       "        </tr>\n",
       "        <tr>\n",
       "            <td>F9 FT  B1021.2</td>\n",
       "        </tr>\n",
       "        <tr>\n",
       "            <td>F9 FT  B1031.2</td>\n",
       "        </tr>\n",
       "    </tbody>\n",
       "</table>"
      ],
      "text/plain": [
       "[('F9 FT B1022',), ('F9 FT B1026',), ('F9 FT  B1021.2',), ('F9 FT  B1031.2',)]"
      ]
     },
     "execution_count": 29,
     "metadata": {},
     "output_type": "execute_result"
    }
   ],
   "source": [
    "%%sql\n",
    "select distinct Booster_Version from SPACEXTBL \n",
    "where \"Landing _Outcome\" = \"Success (drone ship)\" \n",
    "and PAYLOAD_MASS__KG_ > 4000 and PAYLOAD_MASS__KG_< 6000"
   ]
  },
  {
   "cell_type": "markdown",
   "metadata": {},
   "source": [
    "### Task 7\n",
    "\n",
    "##### List the total number of successful and failure mission outcomes\n"
   ]
  },
  {
   "cell_type": "code",
   "execution_count": 33,
   "metadata": {},
   "outputs": [
    {
     "name": "stdout",
     "output_type": "stream",
     "text": [
      " * sqlite:///my_data1.db\n",
      "Done.\n"
     ]
    },
    {
     "data": {
      "text/html": [
       "<table>\n",
       "    <thead>\n",
       "        <tr>\n",
       "            <th>Mission_Outcome</th>\n",
       "        </tr>\n",
       "    </thead>\n",
       "    <tbody>\n",
       "        <tr>\n",
       "            <td>Success</td>\n",
       "        </tr>\n",
       "        <tr>\n",
       "            <td>Failure (in flight)</td>\n",
       "        </tr>\n",
       "        <tr>\n",
       "            <td>Success (payload status unclear)</td>\n",
       "        </tr>\n",
       "        <tr>\n",
       "            <td>Success </td>\n",
       "        </tr>\n",
       "    </tbody>\n",
       "</table>"
      ],
      "text/plain": [
       "[('Success',),\n",
       " ('Failure (in flight)',),\n",
       " ('Success (payload status unclear)',),\n",
       " ('Success ',)]"
      ]
     },
     "execution_count": 33,
     "metadata": {},
     "output_type": "execute_result"
    }
   ],
   "source": [
    "%%sql\n",
    "select distinct Mission_Outcome from SPACEXTBL "
   ]
  },
  {
   "cell_type": "code",
   "execution_count": 32,
   "metadata": {},
   "outputs": [
    {
     "name": "stdout",
     "output_type": "stream",
     "text": [
      " * sqlite:///my_data1.db\n",
      "Done.\n"
     ]
    },
    {
     "data": {
      "text/html": [
       "<table>\n",
       "    <thead>\n",
       "        <tr>\n",
       "            <th>Mission_Outcome</th>\n",
       "            <th>count(Mission_Outcome)</th>\n",
       "        </tr>\n",
       "    </thead>\n",
       "    <tbody>\n",
       "        <tr>\n",
       "            <td>Failure (in flight)</td>\n",
       "            <td>1</td>\n",
       "        </tr>\n",
       "        <tr>\n",
       "            <td>Success</td>\n",
       "            <td>98</td>\n",
       "        </tr>\n",
       "        <tr>\n",
       "            <td>Success </td>\n",
       "            <td>1</td>\n",
       "        </tr>\n",
       "        <tr>\n",
       "            <td>Success (payload status unclear)</td>\n",
       "            <td>1</td>\n",
       "        </tr>\n",
       "    </tbody>\n",
       "</table>"
      ],
      "text/plain": [
       "[('Failure (in flight)', 1),\n",
       " ('Success', 98),\n",
       " ('Success ', 1),\n",
       " ('Success (payload status unclear)', 1)]"
      ]
     },
     "execution_count": 32,
     "metadata": {},
     "output_type": "execute_result"
    }
   ],
   "source": [
    "%%sql\n",
    "select Mission_Outcome, count(Mission_Outcome) from SPACEXTBL \n",
    "group by Mission_Outcome"
   ]
  },
  {
   "cell_type": "markdown",
   "metadata": {},
   "source": [
    "### Task 8\n",
    "\n",
    "##### List the   names of the booster_versions which have carried the maximum payload mass. Use a subquery\n"
   ]
  },
  {
   "cell_type": "code",
   "execution_count": 31,
   "metadata": {},
   "outputs": [
    {
     "name": "stdout",
     "output_type": "stream",
     "text": [
      " * sqlite:///my_data1.db\n",
      "Done.\n"
     ]
    },
    {
     "data": {
      "text/html": [
       "<table>\n",
       "    <thead>\n",
       "        <tr>\n",
       "            <th>Booster_Version</th>\n",
       "        </tr>\n",
       "    </thead>\n",
       "    <tbody>\n",
       "        <tr>\n",
       "            <td>F9 B5 B1048.4</td>\n",
       "        </tr>\n",
       "        <tr>\n",
       "            <td>F9 B5 B1049.4</td>\n",
       "        </tr>\n",
       "        <tr>\n",
       "            <td>F9 B5 B1051.3</td>\n",
       "        </tr>\n",
       "        <tr>\n",
       "            <td>F9 B5 B1056.4</td>\n",
       "        </tr>\n",
       "        <tr>\n",
       "            <td>F9 B5 B1048.5</td>\n",
       "        </tr>\n",
       "        <tr>\n",
       "            <td>F9 B5 B1051.4</td>\n",
       "        </tr>\n",
       "        <tr>\n",
       "            <td>F9 B5 B1049.5</td>\n",
       "        </tr>\n",
       "        <tr>\n",
       "            <td>F9 B5 B1060.2 </td>\n",
       "        </tr>\n",
       "        <tr>\n",
       "            <td>F9 B5 B1058.3 </td>\n",
       "        </tr>\n",
       "        <tr>\n",
       "            <td>F9 B5 B1051.6</td>\n",
       "        </tr>\n",
       "        <tr>\n",
       "            <td>F9 B5 B1060.3</td>\n",
       "        </tr>\n",
       "        <tr>\n",
       "            <td>F9 B5 B1049.7 </td>\n",
       "        </tr>\n",
       "    </tbody>\n",
       "</table>"
      ],
      "text/plain": [
       "[('F9 B5 B1048.4',),\n",
       " ('F9 B5 B1049.4',),\n",
       " ('F9 B5 B1051.3',),\n",
       " ('F9 B5 B1056.4',),\n",
       " ('F9 B5 B1048.5',),\n",
       " ('F9 B5 B1051.4',),\n",
       " ('F9 B5 B1049.5',),\n",
       " ('F9 B5 B1060.2 ',),\n",
       " ('F9 B5 B1058.3 ',),\n",
       " ('F9 B5 B1051.6',),\n",
       " ('F9 B5 B1060.3',),\n",
       " ('F9 B5 B1049.7 ',)]"
      ]
     },
     "execution_count": 31,
     "metadata": {},
     "output_type": "execute_result"
    }
   ],
   "source": [
    "%%sql\n",
    "select distinct Booster_Version from SPACEXTBL where PAYLOAD_MASS__KG_ =\n",
    "(select max(PAYLOAD_MASS__KG_) from SPACEXTBL)"
   ]
  },
  {
   "cell_type": "markdown",
   "metadata": {},
   "source": [
    "### Task 9\n",
    "\n",
    "##### List the records which will display the month names, failure landing_outcomes in drone ship ,booster versions, launch_site for the months in year 2015.\n",
    "\n",
    "**Note: SQLLite does not support monthnames. So you need to use  substr(Date, 4, 2) as month to get the months and substr(Date,7,4)='2015' for year.**\n"
   ]
  },
  {
   "cell_type": "code",
   "execution_count": 35,
   "metadata": {},
   "outputs": [
    {
     "name": "stdout",
     "output_type": "stream",
     "text": [
      " * sqlite:///my_data1.db\n",
      "Done.\n"
     ]
    },
    {
     "data": {
      "text/html": [
       "<table>\n",
       "    <thead>\n",
       "        <tr>\n",
       "            <th>month</th>\n",
       "            <th>Booster_Version</th>\n",
       "            <th>Launch_Site</th>\n",
       "            <th>count(&quot;Landing _Outcome&quot;)</th>\n",
       "        </tr>\n",
       "    </thead>\n",
       "    <tbody>\n",
       "        <tr>\n",
       "            <td>01</td>\n",
       "            <td>F9 v1.1 B1012</td>\n",
       "            <td>CCAFS LC-40</td>\n",
       "            <td>1</td>\n",
       "        </tr>\n",
       "        <tr>\n",
       "            <td>04</td>\n",
       "            <td>F9 v1.1 B1015</td>\n",
       "            <td>CCAFS LC-40</td>\n",
       "            <td>1</td>\n",
       "        </tr>\n",
       "    </tbody>\n",
       "</table>"
      ],
      "text/plain": [
       "[('01', 'F9 v1.1 B1012', 'CCAFS LC-40', 1),\n",
       " ('04', 'F9 v1.1 B1015', 'CCAFS LC-40', 1)]"
      ]
     },
     "execution_count": 35,
     "metadata": {},
     "output_type": "execute_result"
    }
   ],
   "source": [
    "%%sql\n",
    "select substr(Date, 4, 2) as month,Booster_Version,Launch_Site,count(\"Landing _Outcome\")\n",
    "    from SPACEXTBL where substr(Date,7,4)='2015' and \"Landing _Outcome\" = \"Failure (drone ship)\" \n",
    "    group by 1,2,3"
   ]
  },
  {
   "cell_type": "markdown",
   "metadata": {},
   "source": [
    "### Task 10\n",
    "\n",
    "##### Rank the  count of  successful landing_outcomes between the date 04-06-2010 and 20-03-2017 in descending order.\n"
   ]
  },
  {
   "cell_type": "code",
   "execution_count": 37,
   "metadata": {},
   "outputs": [
    {
     "name": "stdout",
     "output_type": "stream",
     "text": [
      " * sqlite:///my_data1.db\n",
      "Done.\n"
     ]
    },
    {
     "data": {
      "text/html": [
       "<table>\n",
       "    <thead>\n",
       "        <tr>\n",
       "            <th>Landing _Outcome</th>\n",
       "        </tr>\n",
       "    </thead>\n",
       "    <tbody>\n",
       "        <tr>\n",
       "            <td>Failure (parachute)</td>\n",
       "        </tr>\n",
       "        <tr>\n",
       "            <td>No attempt</td>\n",
       "        </tr>\n",
       "        <tr>\n",
       "            <td>Uncontrolled (ocean)</td>\n",
       "        </tr>\n",
       "        <tr>\n",
       "            <td>Controlled (ocean)</td>\n",
       "        </tr>\n",
       "        <tr>\n",
       "            <td>Failure (drone ship)</td>\n",
       "        </tr>\n",
       "        <tr>\n",
       "            <td>Precluded (drone ship)</td>\n",
       "        </tr>\n",
       "        <tr>\n",
       "            <td>Success (ground pad)</td>\n",
       "        </tr>\n",
       "        <tr>\n",
       "            <td>Success (drone ship)</td>\n",
       "        </tr>\n",
       "        <tr>\n",
       "            <td>Success</td>\n",
       "        </tr>\n",
       "        <tr>\n",
       "            <td>Failure</td>\n",
       "        </tr>\n",
       "        <tr>\n",
       "            <td>No attempt </td>\n",
       "        </tr>\n",
       "    </tbody>\n",
       "</table>"
      ],
      "text/plain": [
       "[('Failure (parachute)',),\n",
       " ('No attempt',),\n",
       " ('Uncontrolled (ocean)',),\n",
       " ('Controlled (ocean)',),\n",
       " ('Failure (drone ship)',),\n",
       " ('Precluded (drone ship)',),\n",
       " ('Success (ground pad)',),\n",
       " ('Success (drone ship)',),\n",
       " ('Success',),\n",
       " ('Failure',),\n",
       " ('No attempt ',)]"
      ]
     },
     "execution_count": 37,
     "metadata": {},
     "output_type": "execute_result"
    }
   ],
   "source": [
    "%%sql\n",
    "select distinct \"Landing _Outcome\" \n",
    "from SPACEXTBL"
   ]
  },
  {
   "cell_type": "code",
   "execution_count": 50,
   "metadata": {},
   "outputs": [
    {
     "name": "stdout",
     "output_type": "stream",
     "text": [
      " * sqlite:///my_data1.db\n",
      "Done.\n"
     ]
    },
    {
     "data": {
      "text/html": [
       "<table>\n",
       "    <thead>\n",
       "        <tr>\n",
       "            <th>Date</th>\n",
       "            <th>Time (UTC)</th>\n",
       "            <th>Booster_Version</th>\n",
       "            <th>Launch_Site</th>\n",
       "            <th>Payload</th>\n",
       "            <th>PAYLOAD_MASS__KG_</th>\n",
       "            <th>Orbit</th>\n",
       "            <th>Customer</th>\n",
       "            <th>Mission_Outcome</th>\n",
       "            <th>Landing _Outcome</th>\n",
       "        </tr>\n",
       "    </thead>\n",
       "    <tbody>\n",
       "        <tr>\n",
       "            <td>08-04-2016</td>\n",
       "            <td>20:43:00</td>\n",
       "            <td>F9 FT B1021.1</td>\n",
       "            <td>CCAFS LC-40</td>\n",
       "            <td>SpaceX CRS-8</td>\n",
       "            <td>3136</td>\n",
       "            <td>LEO (ISS)</td>\n",
       "            <td>NASA (CRS)</td>\n",
       "            <td>Success</td>\n",
       "            <td>Success (drone ship)</td>\n",
       "        </tr>\n",
       "        <tr>\n",
       "            <td>06-05-2016</td>\n",
       "            <td>05:21:00</td>\n",
       "            <td>F9 FT B1022</td>\n",
       "            <td>CCAFS LC-40</td>\n",
       "            <td>JCSAT-14</td>\n",
       "            <td>4696</td>\n",
       "            <td>GTO</td>\n",
       "            <td>SKY Perfect JSAT Group</td>\n",
       "            <td>Success</td>\n",
       "            <td>Success (drone ship)</td>\n",
       "        </tr>\n",
       "        <tr>\n",
       "            <td>27-05-2016</td>\n",
       "            <td>21:39:00</td>\n",
       "            <td>F9 FT B1023.1</td>\n",
       "            <td>CCAFS LC-40</td>\n",
       "            <td>Thaicom 8</td>\n",
       "            <td>3100</td>\n",
       "            <td>GTO</td>\n",
       "            <td>Thaicom</td>\n",
       "            <td>Success</td>\n",
       "            <td>Success (drone ship)</td>\n",
       "        </tr>\n",
       "        <tr>\n",
       "            <td>14-08-2016</td>\n",
       "            <td>05:26:00</td>\n",
       "            <td>F9 FT B1026</td>\n",
       "            <td>CCAFS LC-40</td>\n",
       "            <td>JCSAT-16</td>\n",
       "            <td>4600</td>\n",
       "            <td>GTO</td>\n",
       "            <td>SKY Perfect JSAT Group</td>\n",
       "            <td>Success</td>\n",
       "            <td>Success (drone ship)</td>\n",
       "        </tr>\n",
       "        <tr>\n",
       "            <td>14-01-2017</td>\n",
       "            <td>17:54:00</td>\n",
       "            <td>F9 FT B1029.1</td>\n",
       "            <td>VAFB SLC-4E</td>\n",
       "            <td>Iridium NEXT 1</td>\n",
       "            <td>9600</td>\n",
       "            <td>Polar LEO</td>\n",
       "            <td>Iridium Communications</td>\n",
       "            <td>Success</td>\n",
       "            <td>Success (drone ship)</td>\n",
       "        </tr>\n",
       "        <tr>\n",
       "            <td>30-03-2017</td>\n",
       "            <td>22:27:00</td>\n",
       "            <td>F9 FT  B1021.2</td>\n",
       "            <td>KSC LC-39A</td>\n",
       "            <td>SES-10</td>\n",
       "            <td>5300</td>\n",
       "            <td>GTO</td>\n",
       "            <td>SES</td>\n",
       "            <td>Success</td>\n",
       "            <td>Success (drone ship)</td>\n",
       "        </tr>\n",
       "        <tr>\n",
       "            <td>23-06-2017</td>\n",
       "            <td>19:10:00</td>\n",
       "            <td>F9 FT  B1029.2</td>\n",
       "            <td>KSC LC-39A</td>\n",
       "            <td>BulgariaSat-1</td>\n",
       "            <td>3669</td>\n",
       "            <td>GTO</td>\n",
       "            <td>Bulsatcom</td>\n",
       "            <td>Success</td>\n",
       "            <td>Success (drone ship)</td>\n",
       "        </tr>\n",
       "        <tr>\n",
       "            <td>25-06-2017</td>\n",
       "            <td>20:25:00</td>\n",
       "            <td>F9 FT B1036.1</td>\n",
       "            <td>VAFB SLC-4E</td>\n",
       "            <td>Iridium NEXT 2</td>\n",
       "            <td>9600</td>\n",
       "            <td>LEO</td>\n",
       "            <td>Iridium Communications</td>\n",
       "            <td>Success</td>\n",
       "            <td>Success (drone ship)</td>\n",
       "        </tr>\n",
       "        <tr>\n",
       "            <td>24-08-2017</td>\n",
       "            <td>18:51:00</td>\n",
       "            <td>F9 FT B1038.1</td>\n",
       "            <td>VAFB SLC-4E</td>\n",
       "            <td>Formosat-5</td>\n",
       "            <td>475</td>\n",
       "            <td>SSO</td>\n",
       "            <td>NSPO</td>\n",
       "            <td>Success</td>\n",
       "            <td>Success (drone ship)</td>\n",
       "        </tr>\n",
       "        <tr>\n",
       "            <td>09-10-2017</td>\n",
       "            <td>12:37:00</td>\n",
       "            <td>F9 B4 B1041.1</td>\n",
       "            <td>VAFB SLC-4E</td>\n",
       "            <td>Iridium NEXT 3</td>\n",
       "            <td>9600</td>\n",
       "            <td>Polar LEO</td>\n",
       "            <td>Iridium Communications</td>\n",
       "            <td>Success</td>\n",
       "            <td>Success (drone ship)</td>\n",
       "        </tr>\n",
       "        <tr>\n",
       "            <td>11-10-2017</td>\n",
       "            <td>22:53:00</td>\n",
       "            <td>F9 FT  B1031.2</td>\n",
       "            <td>KSC LC-39A</td>\n",
       "            <td>SES-11 / EchoStar 105</td>\n",
       "            <td>5200</td>\n",
       "            <td>GTO</td>\n",
       "            <td>SES EchoStar</td>\n",
       "            <td>Success</td>\n",
       "            <td>Success (drone ship)</td>\n",
       "        </tr>\n",
       "        <tr>\n",
       "            <td>30-10-2017</td>\n",
       "            <td>19:34:00</td>\n",
       "            <td>F9 B4 B1042.1</td>\n",
       "            <td>KSC LC-39A</td>\n",
       "            <td>Koreasat 5A</td>\n",
       "            <td>3500</td>\n",
       "            <td>GTO</td>\n",
       "            <td>KT Corporation</td>\n",
       "            <td>Success</td>\n",
       "            <td>Success (drone ship)</td>\n",
       "        </tr>\n",
       "        <tr>\n",
       "            <td>18-04-2018</td>\n",
       "            <td>22:51:00</td>\n",
       "            <td>F9 B4 B1045.1</td>\n",
       "            <td>CCAFS SLC-40</td>\n",
       "            <td>Transiting Exoplanet Survey Satellite (TESS)</td>\n",
       "            <td>362</td>\n",
       "            <td>HEO</td>\n",
       "            <td>NASA (LSP)</td>\n",
       "            <td>Success</td>\n",
       "            <td>Success (drone ship)</td>\n",
       "        </tr>\n",
       "        <tr>\n",
       "            <td>11-05-2018</td>\n",
       "            <td>20:14:00</td>\n",
       "            <td>F9 B5  B1046.1</td>\n",
       "            <td>KSC LC-39A</td>\n",
       "            <td>Bangabandhu-1</td>\n",
       "            <td>3600</td>\n",
       "            <td>GTO</td>\n",
       "            <td>Thales-Alenia/BTRC</td>\n",
       "            <td>Success</td>\n",
       "            <td>Success (drone ship)</td>\n",
       "        </tr>\n",
       "    </tbody>\n",
       "</table>"
      ],
      "text/plain": [
       "[('08-04-2016', '20:43:00', 'F9 FT B1021.1', 'CCAFS LC-40', 'SpaceX CRS-8', 3136, 'LEO (ISS)', 'NASA (CRS)', 'Success', 'Success (drone ship)'),\n",
       " ('06-05-2016', '05:21:00', 'F9 FT B1022', 'CCAFS LC-40', 'JCSAT-14', 4696, 'GTO', 'SKY Perfect JSAT Group', 'Success', 'Success (drone ship)'),\n",
       " ('27-05-2016', '21:39:00', 'F9 FT B1023.1', 'CCAFS LC-40', 'Thaicom 8', 3100, 'GTO', 'Thaicom', 'Success', 'Success (drone ship)'),\n",
       " ('14-08-2016', '05:26:00', 'F9 FT B1026', 'CCAFS LC-40', 'JCSAT-16', 4600, 'GTO', 'SKY Perfect JSAT Group', 'Success', 'Success (drone ship)'),\n",
       " ('14-01-2017', '17:54:00', 'F9 FT B1029.1', 'VAFB SLC-4E', 'Iridium NEXT 1', 9600, 'Polar LEO', 'Iridium Communications', 'Success', 'Success (drone ship)'),\n",
       " ('30-03-2017', '22:27:00', 'F9 FT  B1021.2', 'KSC LC-39A', 'SES-10', 5300, 'GTO', 'SES', 'Success', 'Success (drone ship)'),\n",
       " ('23-06-2017', '19:10:00', 'F9 FT  B1029.2', 'KSC LC-39A', 'BulgariaSat-1', 3669, 'GTO', 'Bulsatcom', 'Success', 'Success (drone ship)'),\n",
       " ('25-06-2017', '20:25:00', 'F9 FT B1036.1', 'VAFB SLC-4E', 'Iridium NEXT 2', 9600, 'LEO', 'Iridium Communications', 'Success', 'Success (drone ship)'),\n",
       " ('24-08-2017', '18:51:00', 'F9 FT B1038.1', 'VAFB SLC-4E', 'Formosat-5', 475, 'SSO', 'NSPO', 'Success', 'Success (drone ship)'),\n",
       " ('09-10-2017', '12:37:00', 'F9 B4 B1041.1', 'VAFB SLC-4E', 'Iridium NEXT 3', 9600, 'Polar LEO', 'Iridium Communications', 'Success', 'Success (drone ship)'),\n",
       " ('11-10-2017', '22:53:00', 'F9 FT  B1031.2', 'KSC LC-39A', 'SES-11 / EchoStar 105', 5200, 'GTO', 'SES EchoStar', 'Success', 'Success (drone ship)'),\n",
       " ('30-10-2017', '19:34:00', 'F9 B4 B1042.1', 'KSC LC-39A', 'Koreasat 5A', 3500, 'GTO', 'KT Corporation', 'Success', 'Success (drone ship)'),\n",
       " ('18-04-2018', '22:51:00', 'F9 B4 B1045.1', 'CCAFS SLC-40', 'Transiting Exoplanet Survey Satellite (TESS)', 362, 'HEO', 'NASA (LSP)', 'Success', 'Success (drone ship)'),\n",
       " ('11-05-2018', '20:14:00', 'F9 B5  B1046.1', 'KSC LC-39A', 'Bangabandhu-1', 3600, 'GTO', 'Thales-Alenia/BTRC', 'Success', 'Success (drone ship)')]"
      ]
     },
     "execution_count": 50,
     "metadata": {},
     "output_type": "execute_result"
    }
   ],
   "source": [
    "%%sql\n",
    "select * from SPACEXTBL\n",
    "where \n",
    "\"Landing _Outcome\" = \"Success (drone ship)\""
   ]
  },
  {
   "cell_type": "code",
   "execution_count": 56,
   "metadata": {},
   "outputs": [
    {
     "name": "stdout",
     "output_type": "stream",
     "text": [
      " * sqlite:///my_data1.db\n",
      "Done.\n"
     ]
    },
    {
     "data": {
      "text/html": [
       "<table>\n",
       "    <thead>\n",
       "        <tr>\n",
       "            <th>Landing _Outcome</th>\n",
       "            <th>count(&quot;Landing _Outcome&quot;)</th>\n",
       "        </tr>\n",
       "    </thead>\n",
       "    <tbody>\n",
       "        <tr>\n",
       "            <td>Success</td>\n",
       "            <td>20</td>\n",
       "        </tr>\n",
       "        <tr>\n",
       "            <td>Success (drone ship)</td>\n",
       "            <td>8</td>\n",
       "        </tr>\n",
       "        <tr>\n",
       "            <td>Success (ground pad)</td>\n",
       "            <td>6</td>\n",
       "        </tr>\n",
       "    </tbody>\n",
       "</table>"
      ],
      "text/plain": [
       "[('Success', 20), ('Success (drone ship)', 8), ('Success (ground pad)', 6)]"
      ]
     },
     "execution_count": 56,
     "metadata": {},
     "output_type": "execute_result"
    }
   ],
   "source": [
    "%%sql\n",
    "select \"Landing _Outcome\" , count(\"Landing _Outcome\")  from SPACEXTBL\n",
    "where Date between '04-06-2010' and '20-03-2017'\n",
    "and \"Landing _Outcome\" like '%Success%'\n",
    "group by \"Landing _Outcome\"\n",
    "order by count(\"Landing _Outcome\") desc"
   ]
  },
  {
   "cell_type": "code",
   "execution_count": 60,
   "metadata": {},
   "outputs": [
    {
     "name": "stdout",
     "output_type": "stream",
     "text": [
      " * sqlite:///my_data1.db\n",
      "Done.\n"
     ]
    },
    {
     "data": {
      "text/html": [
       "<table>\n",
       "    <thead>\n",
       "        <tr>\n",
       "            <th>PAYLOAD_MASS__KG_</th>\n",
       "        </tr>\n",
       "    </thead>\n",
       "    <tbody>\n",
       "        <tr>\n",
       "            <td>15600</td>\n",
       "        </tr>\n",
       "        <tr>\n",
       "            <td>15600</td>\n",
       "        </tr>\n",
       "        <tr>\n",
       "            <td>15600</td>\n",
       "        </tr>\n",
       "        <tr>\n",
       "            <td>15600</td>\n",
       "        </tr>\n",
       "        <tr>\n",
       "            <td>15600</td>\n",
       "        </tr>\n",
       "        <tr>\n",
       "            <td>15600</td>\n",
       "        </tr>\n",
       "        <tr>\n",
       "            <td>15600</td>\n",
       "        </tr>\n",
       "        <tr>\n",
       "            <td>15600</td>\n",
       "        </tr>\n",
       "        <tr>\n",
       "            <td>15600</td>\n",
       "        </tr>\n",
       "        <tr>\n",
       "            <td>15600</td>\n",
       "        </tr>\n",
       "        <tr>\n",
       "            <td>15600</td>\n",
       "        </tr>\n",
       "        <tr>\n",
       "            <td>15600</td>\n",
       "        </tr>\n",
       "        <tr>\n",
       "            <td>15440</td>\n",
       "        </tr>\n",
       "        <tr>\n",
       "            <td>15410</td>\n",
       "        </tr>\n",
       "        <tr>\n",
       "            <td>14932</td>\n",
       "        </tr>\n",
       "        <tr>\n",
       "            <td>13620</td>\n",
       "        </tr>\n",
       "        <tr>\n",
       "            <td>12530</td>\n",
       "        </tr>\n",
       "        <tr>\n",
       "            <td>12500</td>\n",
       "        </tr>\n",
       "        <tr>\n",
       "            <td>12055</td>\n",
       "        </tr>\n",
       "        <tr>\n",
       "            <td>12050</td>\n",
       "        </tr>\n",
       "        <tr>\n",
       "            <td>9600</td>\n",
       "        </tr>\n",
       "        <tr>\n",
       "            <td>9600</td>\n",
       "        </tr>\n",
       "        <tr>\n",
       "            <td>9600</td>\n",
       "        </tr>\n",
       "        <tr>\n",
       "            <td>9600</td>\n",
       "        </tr>\n",
       "        <tr>\n",
       "            <td>9600</td>\n",
       "        </tr>\n",
       "        <tr>\n",
       "            <td>9600</td>\n",
       "        </tr>\n",
       "        <tr>\n",
       "            <td>9600</td>\n",
       "        </tr>\n",
       "        <tr>\n",
       "            <td>7075</td>\n",
       "        </tr>\n",
       "        <tr>\n",
       "            <td>7060</td>\n",
       "        </tr>\n",
       "        <tr>\n",
       "            <td>6956</td>\n",
       "        </tr>\n",
       "        <tr>\n",
       "            <td>6761</td>\n",
       "        </tr>\n",
       "        <tr>\n",
       "            <td>6500</td>\n",
       "        </tr>\n",
       "        <tr>\n",
       "            <td>6460</td>\n",
       "        </tr>\n",
       "        <tr>\n",
       "            <td>6092</td>\n",
       "        </tr>\n",
       "        <tr>\n",
       "            <td>6070</td>\n",
       "        </tr>\n",
       "        <tr>\n",
       "            <td>5800</td>\n",
       "        </tr>\n",
       "        <tr>\n",
       "            <td>5600</td>\n",
       "        </tr>\n",
       "        <tr>\n",
       "            <td>5500</td>\n",
       "        </tr>\n",
       "        <tr>\n",
       "            <td>5384</td>\n",
       "        </tr>\n",
       "        <tr>\n",
       "            <td>5300</td>\n",
       "        </tr>\n",
       "        <tr>\n",
       "            <td>5300</td>\n",
       "        </tr>\n",
       "        <tr>\n",
       "            <td>5300</td>\n",
       "        </tr>\n",
       "        <tr>\n",
       "            <td>5271</td>\n",
       "        </tr>\n",
       "        <tr>\n",
       "            <td>5200</td>\n",
       "        </tr>\n",
       "        <tr>\n",
       "            <td>5000</td>\n",
       "        </tr>\n",
       "        <tr>\n",
       "            <td>4990</td>\n",
       "        </tr>\n",
       "        <tr>\n",
       "            <td>4850</td>\n",
       "        </tr>\n",
       "        <tr>\n",
       "            <td>4707</td>\n",
       "        </tr>\n",
       "        <tr>\n",
       "            <td>4696</td>\n",
       "        </tr>\n",
       "        <tr>\n",
       "            <td>4600</td>\n",
       "        </tr>\n",
       "        <tr>\n",
       "            <td>4535</td>\n",
       "        </tr>\n",
       "        <tr>\n",
       "            <td>4428</td>\n",
       "        </tr>\n",
       "        <tr>\n",
       "            <td>4400</td>\n",
       "        </tr>\n",
       "        <tr>\n",
       "            <td>4311</td>\n",
       "        </tr>\n",
       "        <tr>\n",
       "            <td>4311</td>\n",
       "        </tr>\n",
       "        <tr>\n",
       "            <td>4230</td>\n",
       "        </tr>\n",
       "        <tr>\n",
       "            <td>4200</td>\n",
       "        </tr>\n",
       "        <tr>\n",
       "            <td>4159</td>\n",
       "        </tr>\n",
       "        <tr>\n",
       "            <td>4000</td>\n",
       "        </tr>\n",
       "        <tr>\n",
       "            <td>3669</td>\n",
       "        </tr>\n",
       "        <tr>\n",
       "            <td>3600</td>\n",
       "        </tr>\n",
       "        <tr>\n",
       "            <td>3600</td>\n",
       "        </tr>\n",
       "        <tr>\n",
       "            <td>3500</td>\n",
       "        </tr>\n",
       "        <tr>\n",
       "            <td>3325</td>\n",
       "        </tr>\n",
       "        <tr>\n",
       "            <td>3310</td>\n",
       "        </tr>\n",
       "        <tr>\n",
       "            <td>3170</td>\n",
       "        </tr>\n",
       "        <tr>\n",
       "            <td>3136</td>\n",
       "        </tr>\n",
       "        <tr>\n",
       "            <td>3130</td>\n",
       "        </tr>\n",
       "        <tr>\n",
       "            <td>3100</td>\n",
       "        </tr>\n",
       "        <tr>\n",
       "            <td>3000</td>\n",
       "        </tr>\n",
       "        <tr>\n",
       "            <td>2972</td>\n",
       "        </tr>\n",
       "        <tr>\n",
       "            <td>2708</td>\n",
       "        </tr>\n",
       "        <tr>\n",
       "            <td>2697</td>\n",
       "        </tr>\n",
       "        <tr>\n",
       "            <td>2647</td>\n",
       "        </tr>\n",
       "        <tr>\n",
       "            <td>2617</td>\n",
       "        </tr>\n",
       "        <tr>\n",
       "            <td>2500</td>\n",
       "        </tr>\n",
       "        <tr>\n",
       "            <td>2495</td>\n",
       "        </tr>\n",
       "        <tr>\n",
       "            <td>2490</td>\n",
       "        </tr>\n",
       "        <tr>\n",
       "            <td>2395</td>\n",
       "        </tr>\n",
       "        <tr>\n",
       "            <td>2296</td>\n",
       "        </tr>\n",
       "        <tr>\n",
       "            <td>2268</td>\n",
       "        </tr>\n",
       "        <tr>\n",
       "            <td>2257</td>\n",
       "        </tr>\n",
       "        <tr>\n",
       "            <td>2216</td>\n",
       "        </tr>\n",
       "        <tr>\n",
       "            <td>2205</td>\n",
       "        </tr>\n",
       "        <tr>\n",
       "            <td>2150</td>\n",
       "        </tr>\n",
       "        <tr>\n",
       "            <td>2034</td>\n",
       "        </tr>\n",
       "        <tr>\n",
       "            <td>1977</td>\n",
       "        </tr>\n",
       "        <tr>\n",
       "            <td>1952</td>\n",
       "        </tr>\n",
       "        <tr>\n",
       "            <td>1898</td>\n",
       "        </tr>\n",
       "        <tr>\n",
       "            <td>1316</td>\n",
       "        </tr>\n",
       "        <tr>\n",
       "            <td>1192</td>\n",
       "        </tr>\n",
       "        <tr>\n",
       "            <td>677</td>\n",
       "        </tr>\n",
       "        <tr>\n",
       "            <td>570</td>\n",
       "        </tr>\n",
       "        <tr>\n",
       "            <td>553</td>\n",
       "        </tr>\n",
       "        <tr>\n",
       "            <td>525</td>\n",
       "        </tr>\n",
       "        <tr>\n",
       "            <td>500</td>\n",
       "        </tr>\n",
       "        <tr>\n",
       "            <td>500</td>\n",
       "        </tr>\n",
       "        <tr>\n",
       "            <td>475</td>\n",
       "        </tr>\n",
       "        <tr>\n",
       "            <td>362</td>\n",
       "        </tr>\n",
       "        <tr>\n",
       "            <td>0</td>\n",
       "        </tr>\n",
       "        <tr>\n",
       "            <td>0</td>\n",
       "        </tr>\n",
       "    </tbody>\n",
       "</table>"
      ],
      "text/plain": [
       "[(15600,),\n",
       " (15600,),\n",
       " (15600,),\n",
       " (15600,),\n",
       " (15600,),\n",
       " (15600,),\n",
       " (15600,),\n",
       " (15600,),\n",
       " (15600,),\n",
       " (15600,),\n",
       " (15600,),\n",
       " (15600,),\n",
       " (15440,),\n",
       " (15410,),\n",
       " (14932,),\n",
       " (13620,),\n",
       " (12530,),\n",
       " (12500,),\n",
       " (12055,),\n",
       " (12050,),\n",
       " (9600,),\n",
       " (9600,),\n",
       " (9600,),\n",
       " (9600,),\n",
       " (9600,),\n",
       " (9600,),\n",
       " (9600,),\n",
       " (7075,),\n",
       " (7060,),\n",
       " (6956,),\n",
       " (6761,),\n",
       " (6500,),\n",
       " (6460,),\n",
       " (6092,),\n",
       " (6070,),\n",
       " (5800,),\n",
       " (5600,),\n",
       " (5500,),\n",
       " (5384,),\n",
       " (5300,),\n",
       " (5300,),\n",
       " (5300,),\n",
       " (5271,),\n",
       " (5200,),\n",
       " (5000,),\n",
       " (4990,),\n",
       " (4850,),\n",
       " (4707,),\n",
       " (4696,),\n",
       " (4600,),\n",
       " (4535,),\n",
       " (4428,),\n",
       " (4400,),\n",
       " (4311,),\n",
       " (4311,),\n",
       " (4230,),\n",
       " (4200,),\n",
       " (4159,),\n",
       " (4000,),\n",
       " (3669,),\n",
       " (3600,),\n",
       " (3600,),\n",
       " (3500,),\n",
       " (3325,),\n",
       " (3310,),\n",
       " (3170,),\n",
       " (3136,),\n",
       " (3130,),\n",
       " (3100,),\n",
       " (3000,),\n",
       " (2972,),\n",
       " (2708,),\n",
       " (2697,),\n",
       " (2647,),\n",
       " (2617,),\n",
       " (2500,),\n",
       " (2495,),\n",
       " (2490,),\n",
       " (2395,),\n",
       " (2296,),\n",
       " (2268,),\n",
       " (2257,),\n",
       " (2216,),\n",
       " (2205,),\n",
       " (2150,),\n",
       " (2034,),\n",
       " (1977,),\n",
       " (1952,),\n",
       " (1898,),\n",
       " (1316,),\n",
       " (1192,),\n",
       " (677,),\n",
       " (570,),\n",
       " (553,),\n",
       " (525,),\n",
       " (500,),\n",
       " (500,),\n",
       " (475,),\n",
       " (362,),\n",
       " (0,),\n",
       " (0,)]"
      ]
     },
     "execution_count": 60,
     "metadata": {},
     "output_type": "execute_result"
    }
   ],
   "source": [
    "%%sql\n",
    "select payload_mass__kg_ from SPACEXTBL order by payload_mass__kg_ desc"
   ]
  },
  {
   "cell_type": "markdown",
   "metadata": {},
   "source": [
    "### Reference Links\n",
    "\n",
    "*   <a href =\"https://cf-courses-data.s3.us.cloud-object-storage.appdomain.cloud/IBMDeveloperSkillsNetwork-DB0201EN-SkillsNetwork/labs/Labs_Coursera_V5/labs/Lab%20-%20String%20Patterns%20-%20Sorting%20-%20Grouping/instructional-labs.md.html?utm_medium=Exinfluencer&utm_source=Exinfluencer&utm_content=000026UJ&utm_term=10006555&utm_id=NA-SkillsNetwork-Channel-SkillsNetworkCoursesIBMDS0321ENSkillsNetwork26802033-2022-01-01&origin=www.coursera.org\">Hands-on Lab : String Patterns, Sorting and Grouping</a>\n",
    "\n",
    "*   <a  href=\"https://cf-courses-data.s3.us.cloud-object-storage.appdomain.cloud/IBMDeveloperSkillsNetwork-DB0201EN-SkillsNetwork/labs/Labs_Coursera_V5/labs/Lab%20-%20Built-in%20functions%20/Hands-on_Lab__Built-in_Functions.md.html?utm_medium=Exinfluencer&utm_source=Exinfluencer&utm_content=000026UJ&utm_term=10006555&utm_id=NA-SkillsNetwork-Channel-SkillsNetworkCoursesIBMDS0321ENSkillsNetwork26802033-2022-01-01&origin=www.coursera.org\">Hands-on Lab: Built-in functions</a>\n",
    "\n",
    "*   <a  href=\"https://cf-courses-data.s3.us.cloud-object-storage.appdomain.cloud/IBMDeveloperSkillsNetwork-DB0201EN-SkillsNetwork/labs/Labs_Coursera_V5/labs/Lab%20-%20Sub-queries%20and%20Nested%20SELECTs%20/instructional-labs.md.html?utm_medium=Exinfluencer&utm_source=Exinfluencer&utm_content=000026UJ&utm_term=10006555&utm_id=NA-SkillsNetwork-Channel-SkillsNetworkCoursesIBMDS0321ENSkillsNetwork26802033-2022-01-01&origin=www.coursera.org\">Hands-on Lab : Sub-queries and Nested SELECT Statements</a>\n",
    "\n",
    "*   <a href=\"https://cf-courses-data.s3.us.cloud-object-storage.appdomain.cloud/IBMDeveloperSkillsNetwork-DB0201EN-SkillsNetwork/labs/Module%205/DB0201EN-Week3-1-3-SQLmagic.ipynb?utm_medium=Exinfluencer&utm_source=Exinfluencer&utm_content=000026UJ&utm_term=10006555&utm_id=NA-SkillsNetwork-Channel-SkillsNetworkCoursesIBMDS0321ENSkillsNetwork26802033-2022-01-01\">Hands-on Tutorial: Accessing Databases with SQL magic</a>\n",
    "\n",
    "*   <a href= \"https://cf-courses-data.s3.us.cloud-object-storage.appdomain.cloud/IBMDeveloperSkillsNetwork-DB0201EN-SkillsNetwork/labs/Module%205/DB0201EN-Week3-1-4-Analyzing.ipynb?utm_medium=Exinfluencer&utm_source=Exinfluencer&utm_content=000026UJ&utm_term=10006555&utm_id=NA-SkillsNetwork-Channel-SkillsNetworkCoursesIBMDS0321ENSkillsNetwork26802033-2022-01-01\">Hands-on Lab: Analyzing a real World Data Set</a>\n"
   ]
  },
  {
   "cell_type": "markdown",
   "metadata": {},
   "source": [
    "## Author(s)\n",
    "\n",
    "<h4> Lakshmi Holla </h4>\n"
   ]
  },
  {
   "cell_type": "markdown",
   "metadata": {},
   "source": [
    "## Other Contributors\n",
    "\n",
    "<h4> Rav Ahuja </h4>\n"
   ]
  },
  {
   "cell_type": "markdown",
   "metadata": {},
   "source": [
    "## Change log\n",
    "\n",
    "| Date       | Version | Changed by    | Change Description        |\n",
    "| ---------- | ------- | ------------- | ------------------------- |\n",
    "| 2021-07-09 | 0.2     | Lakshmi Holla | Changes made in magic sql |\n",
    "| 2021-05-20 | 0.1     | Lakshmi Holla | Created Initial Version   |\n"
   ]
  },
  {
   "cell_type": "markdown",
   "metadata": {},
   "source": [
    "## <h3 align=\"center\"> © IBM Corporation 2021. All rights reserved. <h3/>\n"
   ]
  }
 ],
 "metadata": {
  "kernelspec": {
   "display_name": "Python",
   "language": "python",
   "name": "conda-env-python-py"
  },
  "language_info": {
   "codemirror_mode": {
    "name": "ipython",
    "version": 3
   },
   "file_extension": ".py",
   "mimetype": "text/x-python",
   "name": "python",
   "nbconvert_exporter": "python",
   "pygments_lexer": "ipython3",
   "version": "3.7.12"
  }
 },
 "nbformat": 4,
 "nbformat_minor": 4
}
